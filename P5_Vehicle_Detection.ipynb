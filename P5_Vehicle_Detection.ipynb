{
 "cells": [
  {
   "cell_type": "markdown",
   "metadata": {},
   "source": [
    "## Vehicle Detection Project\n",
    "\n",
    "The goals / steps of this project are the following:\n",
    "\n",
    "- Perform a Histogram of Oriented Gradients (HOG) feature extraction on a labeled training set of images and train a classifier Linear SVM classifier\n",
    "- Optionally, you can also apply a color transform and append binned color features, as well as histograms of color, to your HOG feature vector. \n",
    "- Note: for those first two steps don't forget to normalize your features and randomize a selection for training and testing.\n",
    "- Implement a sliding-window technique and use your trained classifier to search for vehicles in images.\n",
    "- Run your pipeline on a video stream (start with the test_video.mp4 and later implement on full project_video.mp4) and create a heat map of recurring detections frame by frame to reject outliers and follow detected vehicles.\n",
    "- Estimate a bounding box for vehicles detected.\n"
   ]
  },
  {
   "cell_type": "markdown",
   "metadata": {},
   "source": [
    "### Steps to take:\n",
    "\n",
    "##### Train classifier\n",
    "1. load dataset\n",
    "2. extract features from dataset - play with different feature parameters and combinations\n",
    "3. scale features using StandardScaler()\n",
    "4. split data into train and test set\n",
    "5. train classifier and test accuracy - linear SVC and other - Important is only the time to predict not the time to train since this happens only once. Maybe do RandomizedSearchCV or GridSearchCV\n",
    "\n",
    "##### Build pipeline for video processing\n",
    "6. whole image HOG (or sliding window)\n",
    "7. extract same exact features as before from every search window\n",
    "8. scale features using same scaler\n",
    "9. predict using classifier (and print found windows onto test images)\n",
    "10. add heat to heatmap\n",
    "11. integrate over several video frames and threshold\n",
    "12. use label() to get boxes to draw and draw\n"
   ]
  },
  {
   "cell_type": "code",
   "execution_count": 1,
   "metadata": {},
   "outputs": [],
   "source": [
    "# Import statements\n",
    "import matplotlib.image as mpimg\n",
    "import matplotlib.pyplot as plt\n",
    "import numpy as np\n",
    "import cv2\n",
    "import glob\n",
    "import time\n",
    "from sklearn.svm import LinearSVC, SVC\n",
    "from sklearn.preprocessing import StandardScaler\n",
    "from skimage.feature import hog\n",
    "from sklearn.model_selection import train_test_split\n",
    "import pandas as pd\n",
    "from tqdm import tqdm\n",
    "\n",
    "#%matplotlib qt\n",
    "%matplotlib inline"
   ]
  },
  {
   "cell_type": "code",
   "execution_count": 42,
   "metadata": {},
   "outputs": [
    {
     "name": "stdout",
     "output_type": "stream",
     "text": [
      "0.349341 0.49899853622\n"
     ]
    }
   ],
   "source": [
    "# Helper function to print two images side by side\n",
    "\n",
    "def print_example_images(img, img_aug):\n",
    "    plt.figure(figsize=(17,5))\n",
    "    \n",
    "    plt.subplot(121), plt.xticks([]), plt.yticks([])\n",
    "    plt.imshow(img, cmap='gray')\n",
    "        \n",
    "    plt.subplot(122), plt.xticks([]), plt.yticks([])\n",
    "    plt.imshow(img_aug, cmap='gray')\n",
    "        \n",
    "    plt.show()\n",
    "    \n",
    "# Helper to load jpg and png images and adjust the scaling\n",
    "    \n",
    "def load_image(path):\n",
    "    \n",
    "    img = mpimg.imread(path)\n",
    "    \n",
    "    if img.mean() > 2:\n",
    "        img = img/255\n",
    "    \n",
    "    return img\n",
    "\n",
    "img_png = load_image(cars[4])\n",
    "img_jpg = load_image('./test_images/test1.jpg')\n",
    "\n",
    "print(img_png.mean(), img_jpg.mean())"
   ]
  },
  {
   "cell_type": "code",
   "execution_count": 99,
   "metadata": {},
   "outputs": [
    {
     "name": "stdout",
     "output_type": "stream",
     "text": [
      "Dataset loaded! Number of car samples: 8792 . Number of non-car samples: 8968\n"
     ]
    }
   ],
   "source": [
    "# Helper function to load dataset\n",
    "\n",
    "def load_dataset(subset=None):\n",
    "    images = glob.glob('./dataset/vehicles/*/*.png')\n",
    "    cars = []\n",
    "    for image in images:\n",
    "        cars.append(image)\n",
    "\n",
    "    notcars = []\n",
    "    images = glob.glob('./dataset/non-vehicles/*/*.png')\n",
    "    for image in images:\n",
    "        notcars.append(image)\n",
    "\n",
    "    if subset != None:\n",
    "        cars = cars[0:subset]\n",
    "        notcars = notcars[0:subset]\n",
    "   \n",
    "    return cars, notcars\n",
    "\n",
    "cars, notcars = load_dataset(subset=None)\n",
    "\n",
    "print('Dataset loaded! Number of car samples:', len(cars), '. Number of non-car samples:', len(notcars))"
   ]
  },
  {
   "cell_type": "code",
   "execution_count": 100,
   "metadata": {},
   "outputs": [
    {
     "data": {
      "image/png": "[encoded data removed]",
      "text/plain": [
       "<matplotlib.figure.Figure at 0xb7f11d0>"
      ]
     },
     "metadata": {},
     "output_type": "display_data"
    },
    {
     "name": "stdout",
     "output_type": "stream",
     "text": [
      "(1764,)\n"
     ]
    }
   ],
   "source": [
    "# Helper function to extract HOG features and optional visualization\n",
    "def get_hog_features(img, orient, pix_per_cell, cell_per_block,\n",
    "                     vis=False, feature_vec=True):\n",
    "    # Call with two outputs if vis==True\n",
    "    if vis == True:\n",
    "        features, hog_image = hog(img, orientations=orient,\n",
    "                                  pixels_per_cell=(pix_per_cell, pix_per_cell),\n",
    "                                  cells_per_block=(cell_per_block, cell_per_block),\n",
    "                                  transform_sqrt=True,\n",
    "                                  visualise=vis, feature_vector=feature_vec, block_norm='L2-Hys')\n",
    "        return features, hog_image\n",
    "    # Otherwise call with one output\n",
    "    else:\n",
    "        features = hog(img, orientations=orient,\n",
    "                       pixels_per_cell=(pix_per_cell, pix_per_cell),\n",
    "                       cells_per_block=(cell_per_block, cell_per_block),\n",
    "                       transform_sqrt=True,\n",
    "                       visualise=vis, feature_vector=feature_vec, block_norm='L2-Hys')\n",
    "        return features\n",
    "\n",
    "    \n",
    "## Demo\n",
    "img = load_image(cars[4])\n",
    "orient = 9\n",
    "pix_per_cell = 8\n",
    "cell_per_block = 2\n",
    "\n",
    "features, hog_image = get_hog_features(img[:,:,0], orient, pix_per_cell, cell_per_block, vis=True, feature_vec=True)\n",
    "\n",
    "print_example_images(img, hog_image)\n",
    "print(features.shape)"
   ]
  },
  {
   "cell_type": "code",
   "execution_count": 101,
   "metadata": {},
   "outputs": [
    {
     "name": "stdout",
     "output_type": "stream",
     "text": [
      "(768,)\n"
     ]
    }
   ],
   "source": [
    "# Define a function to compute binned color features\n",
    "def bin_spatial(img, size=(32, 32)):\n",
    "    # Use cv2.resize().ravel() to create the feature vector\n",
    "    features = cv2.resize(img, size).ravel()\n",
    "    # Return the feature vector\n",
    "    return features\n",
    "\n",
    "img = load_image(cars[4])\n",
    "spatial_size = (16, 16)  # Spatial binning dimensions\n",
    "\n",
    "features = bin_spatial(img, size=spatial_size)\n",
    "print(features.shape)"
   ]
  },
  {
   "cell_type": "code",
   "execution_count": 102,
   "metadata": {},
   "outputs": [
    {
     "name": "stdout",
     "output_type": "stream",
     "text": [
      "(96,)\n"
     ]
    }
   ],
   "source": [
    "# Define a function to compute color histogram features\n",
    "def color_hist(img, nbins=32):\n",
    "    # Compute the histogram of the color channels separately\n",
    "    channel1_hist = np.histogram(img[:, :, 0], bins=nbins)\n",
    "    channel2_hist = np.histogram(img[:, :, 1], bins=nbins)\n",
    "    channel3_hist = np.histogram(img[:, :, 2], bins=nbins)\n",
    "    # Concatenate the histograms into a single feature vector\n",
    "    hist_features = np.concatenate((channel1_hist[0], channel2_hist[0], channel3_hist[0]))\n",
    "    # Return the individual histograms, bin_centers and feature vector\n",
    "    return hist_features\n",
    "\n",
    "img = load_image(cars[4])\n",
    "hist_bins = 32  # Number of histogram bins\n",
    "\n",
    "features = color_hist(img, nbins=hist_bins)\n",
    "print(features.shape)"
   ]
  },
  {
   "cell_type": "code",
   "execution_count": 103,
   "metadata": {},
   "outputs": [
    {
     "name": "stdout",
     "output_type": "stream",
     "text": [
      "(8460,)\n"
     ]
    }
   ],
   "source": [
    "# Define a function to extract features a single image\n",
    "# Have this function call bin_spatial() and color_hist()\n",
    "def extract_features(file, color_space='RGB', spatial_size=(32, 32),\n",
    "                     hist_bins=32, orient=9,\n",
    "                     pix_per_cell=8, cell_per_block=2, hog_channel=-1,\n",
    "                     spatial_feat=True, hist_feat=True, hog_feat=True):\n",
    "    # Create a list to append feature vectors to\n",
    "\n",
    "    file_features = []\n",
    "    # Read in each one by one\n",
    "    image = load_image(file)\n",
    "    # apply color conversion if other than 'RGB'\n",
    "    if color_space != 'RGB':\n",
    "        if color_space == 'HSV':\n",
    "            feature_image = cv2.cvtColor(image, cv2.COLOR_RGB2HSV)\n",
    "        elif color_space == 'LUV':\n",
    "            feature_image = cv2.cvtColor(image, cv2.COLOR_RGB2LUV)\n",
    "        elif color_space == 'HLS':\n",
    "            feature_image = cv2.cvtColor(image, cv2.COLOR_RGB2HLS)\n",
    "        elif color_space == 'YUV':\n",
    "            feature_image = cv2.cvtColor(image, cv2.COLOR_RGB2YUV)\n",
    "        elif color_space == 'YCrCb':\n",
    "            feature_image = cv2.cvtColor(image, cv2.COLOR_RGB2YCrCb)\n",
    "    else:\n",
    "        feature_image = np.copy(image)\n",
    "\n",
    "    # extract spatial features\n",
    "    if spatial_feat == True:\n",
    "        spatial_features = bin_spatial(feature_image, size=spatial_size)\n",
    "        file_features.append(spatial_features)\n",
    "    # extract histogram features\n",
    "    if hist_feat == True:\n",
    "        hist_features = color_hist(feature_image, nbins=hist_bins)\n",
    "        file_features.append(hist_features)\n",
    "    # extract hog features\n",
    "    if hog_feat == True:\n",
    "        # Call get_hog_features() with vis=False, feature_vec=True\n",
    "        if hog_channel == -1:\n",
    "            hog_features = []\n",
    "            for channel in range(feature_image.shape[2]):\n",
    "                hog_features.append(get_hog_features(feature_image[:, :, channel],\n",
    "                                                     orient, pix_per_cell, cell_per_block,\n",
    "                                                     vis=False, feature_vec=True))\n",
    "            hog_features = np.ravel(hog_features)\n",
    "        else:\n",
    "            hog_features = get_hog_features(feature_image[:, :, hog_channel], orient,\n",
    "                                            pix_per_cell, cell_per_block, vis=False, feature_vec=True)\n",
    "        # Append the new feature vector to the features list\n",
    "        file_features.append(hog_features)\n",
    "        \n",
    "    # Return feature vector\n",
    "    return np.concatenate(file_features)\n",
    "\n",
    "## Demo\n",
    "sample = cars[4]\n",
    "color_space = 'YCrCb'  # Can be RGB, HSV, LUV, HLS, YUV, YCrCb\n",
    "orient = 9  # HOG orientations\n",
    "pix_per_cell = 8  # HOG pixels per cell\n",
    "cell_per_block = 2  # HOG cells per block\n",
    "hog_channel = -1  # Can be 0, 1, 2, or \"ALL\"\n",
    "spatial_size = (32, 32)  # Spatial binning dimensions\n",
    "hist_bins = 32  # Number of histogram bins\n",
    "spatial_feat = True  # Spatial features on or off\n",
    "hist_feat = True  # Histogram features on or off\n",
    "hog_feat = True  # HOG features on or off\n",
    "\n",
    "features = extract_features(sample, color_space=color_space, spatial_size=spatial_size, hist_bins=hist_bins,\n",
    "                                orient=orient, pix_per_cell=pix_per_cell, cell_per_block=cell_per_block,\n",
    "                                hog_channel=hog_channel, spatial_feat=spatial_feat,\n",
    "                                hist_feat=hist_feat, hog_feat=hog_feat)\n",
    "\n",
    "print(features.shape)"
   ]
  },
  {
   "cell_type": "code",
   "execution_count": 104,
   "metadata": {},
   "outputs": [
    {
     "name": "stderr",
     "output_type": "stream",
     "text": [
      "100%|██████████████████████████████████████| 8792/8792 [01:58<00:00, 73.93it/s]\n",
      "100%|██████████████████████████████████████| 8968/8968 [02:08<00:00, 69.88it/s]\n"
     ]
    },
    {
     "name": "stdout",
     "output_type": "stream",
     "text": [
      "247.28 Seconds to extract features...\n"
     ]
    }
   ],
   "source": [
    "# Define a function to extract features from a list of images\n",
    "def extract_features_from_dataset(files, color_space='RGB', spatial_size=(32, 32),\n",
    "                     hist_bins=32, orient=9,\n",
    "                     pix_per_cell=8, cell_per_block=2, hog_channel=0,\n",
    "                     spatial_feat=True, hist_feat=True, hog_feat=True):\n",
    "    # Create a list to append feature vectors to\n",
    "    features = []\n",
    "    # Iterate through the list of images\n",
    "    for file in tqdm(files):\n",
    "        file_features = extract_features(file, color_space=color_space, spatial_size=spatial_size, hist_bins=hist_bins,\n",
    "                                orient=orient, pix_per_cell=pix_per_cell, cell_per_block=cell_per_block,\n",
    "                                hog_channel=hog_channel, spatial_feat=spatial_feat,\n",
    "                                hist_feat=hist_feat, hog_feat=hog_feat)\n",
    "    \n",
    "        features.append(file_features)\n",
    "    # Return list of feature vectors\n",
    "    return features\n",
    "\n",
    "\n",
    "samples = cars\n",
    "color_space = 'YCrCb'  # Can be RGB, HSV, LUV, HLS, YUV, YCrCb\n",
    "orient = 9  # HOG orientations\n",
    "pix_per_cell = 8  # HOG pixels per cell\n",
    "cell_per_block = 2  # HOG cells per block\n",
    "hog_channel = -1  # Can be 0, 1, 2, or \"ALL\"\n",
    "spatial_size = (32, 32)  # Spatial binning dimensions\n",
    "hist_bins = 32  # Number of histogram bins\n",
    "spatial_feat = True  # Spatial features on or off\n",
    "hist_feat = True  # Histogram features on or off\n",
    "hog_feat = True  # HOG features on or off\n",
    "\n",
    "t = time.time()\n",
    "car_features = extract_features_from_dataset(cars, color_space=color_space,\n",
    "                                spatial_size=spatial_size, hist_bins=hist_bins,\n",
    "                                orient=orient, pix_per_cell=pix_per_cell,\n",
    "                                cell_per_block=cell_per_block,\n",
    "                                hog_channel=hog_channel, spatial_feat=spatial_feat,\n",
    "                                hist_feat=hist_feat, hog_feat=hog_feat)\n",
    "notcar_features = extract_features_from_dataset(notcars, color_space=color_space,\n",
    "                                   spatial_size=spatial_size, hist_bins=hist_bins,\n",
    "                                   orient=orient, pix_per_cell=pix_per_cell,\n",
    "                                   cell_per_block=cell_per_block,\n",
    "                                   hog_channel=hog_channel, spatial_feat=spatial_feat,\n",
    "                                   hist_feat=hist_feat, hog_feat=hog_feat)\n",
    "\n",
    "t2 = time.time()\n",
    "print(round(t2 - t, 2), 'Seconds to extract features...')"
   ]
  },
  {
   "cell_type": "code",
   "execution_count": 108,
   "metadata": {},
   "outputs": [
    {
     "ename": "KeyboardInterrupt",
     "evalue": "",
     "output_type": "error",
     "traceback": [
      "\u001b[1;31m---------------------------------------------------------------------------\u001b[0m",
      "\u001b[1;31mKeyboardInterrupt\u001b[0m                         Traceback (most recent call last)",
      "\u001b[1;32m<ipython-input-108-f551918208ad>\u001b[0m in \u001b[0;36m<module>\u001b[1;34m()\u001b[0m\n\u001b[0;32m     40\u001b[0m \u001b[0mC\u001b[0m \u001b[1;33m=\u001b[0m \u001b[1;36m1.0\u001b[0m\u001b[1;33m\u001b[0m\u001b[0m\n\u001b[0;32m     41\u001b[0m \u001b[1;33m\u001b[0m\u001b[0m\n\u001b[1;32m---> 42\u001b[1;33m \u001b[0msvc\u001b[0m\u001b[1;33m,\u001b[0m \u001b[0maccuracy\u001b[0m\u001b[1;33m,\u001b[0m \u001b[0mtime_fit\u001b[0m\u001b[1;33m,\u001b[0m \u001b[0mtime_prediction\u001b[0m \u001b[1;33m=\u001b[0m \u001b[0mfit_SVM\u001b[0m\u001b[1;33m(\u001b[0m\u001b[0mcar_features\u001b[0m\u001b[1;33m,\u001b[0m \u001b[0mnotcar_features\u001b[0m\u001b[1;33m,\u001b[0m \u001b[0mkernel\u001b[0m\u001b[1;33m=\u001b[0m\u001b[0mkernel\u001b[0m\u001b[1;33m,\u001b[0m \u001b[0mC\u001b[0m\u001b[1;33m=\u001b[0m\u001b[0mC\u001b[0m\u001b[1;33m)\u001b[0m\u001b[1;33m\u001b[0m\u001b[0m\n\u001b[0m\u001b[0;32m     43\u001b[0m \u001b[0mprint\u001b[0m\u001b[1;33m(\u001b[0m\u001b[1;34m'Accuracy:'\u001b[0m\u001b[1;33m,\u001b[0m\u001b[0maccuracy\u001b[0m\u001b[1;33m)\u001b[0m\u001b[1;33m\u001b[0m\u001b[0m\n\u001b[0;32m     44\u001b[0m \u001b[0mprint\u001b[0m\u001b[1;33m(\u001b[0m\u001b[1;34m'Time to fit:'\u001b[0m\u001b[1;33m,\u001b[0m \u001b[0mtime_fit\u001b[0m\u001b[1;33m,\u001b[0m\u001b[1;34m'seconds. Time to predict 100 samples: '\u001b[0m\u001b[1;33m,\u001b[0m\u001b[0mtime_prediction\u001b[0m\u001b[1;33m,\u001b[0m\u001b[1;34m'seconds.'\u001b[0m\u001b[1;33m)\u001b[0m\u001b[1;33m\u001b[0m\u001b[0m\n",
      "\u001b[1;32m<ipython-input-108-f551918208ad>\u001b[0m in \u001b[0;36mfit_SVM\u001b[1;34m(car_features, notcar_features, kernel, C)\u001b[0m\n\u001b[0;32m      1\u001b[0m \u001b[1;32mdef\u001b[0m \u001b[0mfit_SVM\u001b[0m\u001b[1;33m(\u001b[0m\u001b[0mcar_features\u001b[0m\u001b[1;33m,\u001b[0m \u001b[0mnotcar_features\u001b[0m\u001b[1;33m,\u001b[0m \u001b[0mkernel\u001b[0m\u001b[1;33m=\u001b[0m\u001b[1;34m'linear'\u001b[0m\u001b[1;33m,\u001b[0m \u001b[0mC\u001b[0m\u001b[1;33m=\u001b[0m\u001b[1;36m1.0\u001b[0m\u001b[1;33m)\u001b[0m\u001b[1;33m:\u001b[0m\u001b[1;33m\u001b[0m\u001b[0m\n\u001b[0;32m      2\u001b[0m \u001b[1;33m\u001b[0m\u001b[0m\n\u001b[1;32m----> 3\u001b[1;33m     \u001b[0mX\u001b[0m \u001b[1;33m=\u001b[0m \u001b[0mnp\u001b[0m\u001b[1;33m.\u001b[0m\u001b[0mvstack\u001b[0m\u001b[1;33m(\u001b[0m\u001b[1;33m(\u001b[0m\u001b[0mcar_features\u001b[0m\u001b[1;33m,\u001b[0m \u001b[0mnotcar_features\u001b[0m\u001b[1;33m)\u001b[0m\u001b[1;33m)\u001b[0m\u001b[1;33m.\u001b[0m\u001b[0mastype\u001b[0m\u001b[1;33m(\u001b[0m\u001b[0mnp\u001b[0m\u001b[1;33m.\u001b[0m\u001b[0mfloat64\u001b[0m\u001b[1;33m)\u001b[0m\u001b[1;33m\u001b[0m\u001b[0m\n\u001b[0m\u001b[0;32m      4\u001b[0m     \u001b[1;31m# Fit a per-column scaler\u001b[0m\u001b[1;33m\u001b[0m\u001b[1;33m\u001b[0m\u001b[0m\n\u001b[0;32m      5\u001b[0m     \u001b[0mX_scaler\u001b[0m \u001b[1;33m=\u001b[0m \u001b[0mStandardScaler\u001b[0m\u001b[1;33m(\u001b[0m\u001b[1;33m)\u001b[0m\u001b[1;33m.\u001b[0m\u001b[0mfit\u001b[0m\u001b[1;33m(\u001b[0m\u001b[0mX\u001b[0m\u001b[1;33m)\u001b[0m\u001b[1;33m\u001b[0m\u001b[0m\n",
      "\u001b[1;32mC:\\Users\\qi10487\\AppData\\Local\\Continuum\\Anaconda3\\envs\\carnd-term1\\lib\\site-packages\\numpy\\core\\shape_base.py\u001b[0m in \u001b[0;36mvstack\u001b[1;34m(tup)\u001b[0m\n\u001b[0;32m    232\u001b[0m \u001b[1;33m\u001b[0m\u001b[0m\n\u001b[0;32m    233\u001b[0m     \"\"\"\n\u001b[1;32m--> 234\u001b[1;33m     \u001b[1;32mreturn\u001b[0m \u001b[0m_nx\u001b[0m\u001b[1;33m.\u001b[0m\u001b[0mconcatenate\u001b[0m\u001b[1;33m(\u001b[0m\u001b[1;33m[\u001b[0m\u001b[0matleast_2d\u001b[0m\u001b[1;33m(\u001b[0m\u001b[0m_m\u001b[0m\u001b[1;33m)\u001b[0m \u001b[1;32mfor\u001b[0m \u001b[0m_m\u001b[0m \u001b[1;32min\u001b[0m \u001b[0mtup\u001b[0m\u001b[1;33m]\u001b[0m\u001b[1;33m,\u001b[0m \u001b[1;36m0\u001b[0m\u001b[1;33m)\u001b[0m\u001b[1;33m\u001b[0m\u001b[0m\n\u001b[0m\u001b[0;32m    235\u001b[0m \u001b[1;33m\u001b[0m\u001b[0m\n\u001b[0;32m    236\u001b[0m \u001b[1;32mdef\u001b[0m \u001b[0mhstack\u001b[0m\u001b[1;33m(\u001b[0m\u001b[0mtup\u001b[0m\u001b[1;33m)\u001b[0m\u001b[1;33m:\u001b[0m\u001b[1;33m\u001b[0m\u001b[0m\n",
      "\u001b[1;31mKeyboardInterrupt\u001b[0m: "
     ]
    }
   ],
   "source": [
    "def fit_SVM(car_features, notcar_features, kernel='linear', C=1.0):\n",
    "    \n",
    "    X = np.vstack((car_features, notcar_features)).astype(np.float64)\n",
    "    # Fit a per-column scaler\n",
    "    X_scaler = StandardScaler().fit(X)\n",
    "    # Apply the scaler to X\n",
    "    scaled_X = X_scaler.transform(X)\n",
    "\n",
    "    # Define the labels vector\n",
    "    y = np.hstack((np.ones(len(car_features)), np.zeros(len(notcar_features))))\n",
    "\n",
    "    # Split up data into randomized training and test sets\n",
    "    rand_state = np.random.randint(0, 100)\n",
    "    X_train, X_test, y_train, y_test = train_test_split(\n",
    "        scaled_X, y, test_size=0.2, random_state=rand_state)\n",
    "\n",
    "    # Use a linear SVC\n",
    "\n",
    "    svc = SVC(kernel=kernel, C=C)\n",
    "    # Check the training time for the SVC\n",
    "    t = time.time()\n",
    "    svc.fit(X_train, y_train)\n",
    "    t2 = time.time()\n",
    "    \n",
    "    fit_time = round(t2 - t, 2)\n",
    "    accuracy = round(svc.score(X_test, y_test), 4)\n",
    "    \n",
    "    \n",
    "    # extract 10 random samples from dataset and run prediction\n",
    "    len_test = len(X_test)\n",
    "    t = time.time()\n",
    "    prediction = svc.predict(X_test)\n",
    "    t2 = time.time()\n",
    "    time_prediction = round((t2 - t)/len_test*100, 9)\n",
    "    \n",
    "    return svc, accuracy, time_fit, time_prediction\n",
    "\n",
    "\n",
    "kernel = 'linear'\n",
    "C = 1.0\n",
    "\n",
    "svc, accuracy, time_fit, time_prediction = fit_SVM(car_features, notcar_features, kernel=kernel, C=C)\n",
    "print('Accuracy:',accuracy)\n",
    "print('Time to fit:', time_fit,'seconds. Time to predict 100 samples: ',time_prediction,'seconds.')"
   ]
  },
  {
   "cell_type": "markdown",
   "metadata": {},
   "source": [
    "## Automated test of different extraction parameters and SVC kernels and parameters"
   ]
  },
  {
   "cell_type": "code",
   "execution_count": 98,
   "metadata": {
    "scrolled": false
   },
   "outputs": [
    {
     "name": "stdout",
     "output_type": "stream",
     "text": [
      "(2, 18)\n",
      "Index:  0\n"
     ]
    },
    {
     "name": "stderr",
     "output_type": "stream",
     "text": [
      "100%|█████████████████████████████████████| 1000/1000 [00:06<00:00, 155.91it/s]\n",
      "100%|█████████████████████████████████████| 1000/1000 [00:06<00:00, 153.61it/s]\n"
     ]
    },
    {
     "name": "stdout",
     "output_type": "stream",
     "text": [
      "Index:  1\n"
     ]
    },
    {
     "name": "stderr",
     "output_type": "stream",
     "text": [
      "100%|█████████████████████████████████████| 1000/1000 [00:05<00:00, 186.64it/s]\n",
      "100%|█████████████████████████████████████| 1000/1000 [00:05<00:00, 183.08it/s]\n"
     ]
    },
    {
     "data": {
      "text/html": [
       "<div>\n",
       "<style>\n",
       "    .dataframe thead tr:only-child th {\n",
       "        text-align: right;\n",
       "    }\n",
       "\n",
       "    .dataframe thead th {\n",
       "        text-align: left;\n",
       "    }\n",
       "\n",
       "    .dataframe tbody tr th {\n",
       "        vertical-align: top;\n",
       "    }\n",
       "</style>\n",
       "<table border=\"1\" class=\"dataframe\">\n",
       "  <thead>\n",
       "    <tr style=\"text-align: right;\">\n",
       "      <th></th>\n",
       "      <th>kernel</th>\n",
       "      <th>C</th>\n",
       "      <th>color_space</th>\n",
       "      <th>orient</th>\n",
       "      <th>pix_per_cell</th>\n",
       "      <th>cell_per_block</th>\n",
       "      <th>hog_channel</th>\n",
       "      <th>spatial_size</th>\n",
       "      <th>hist_bins</th>\n",
       "      <th>spatial_feat</th>\n",
       "      <th>hist_feat</th>\n",
       "      <th>hog_feat</th>\n",
       "      <th>time_to_extract_features</th>\n",
       "      <th>features_vector_length</th>\n",
       "      <th>training_time</th>\n",
       "      <th>accuracy</th>\n",
       "      <th>prediction_time</th>\n",
       "      <th>time_to_extract_features_100</th>\n",
       "      <th>prediction_time_100</th>\n",
       "    </tr>\n",
       "  </thead>\n",
       "  <tbody>\n",
       "    <tr>\n",
       "      <th>0</th>\n",
       "      <td>linear</td>\n",
       "      <td>1</td>\n",
       "      <td>YCrCb</td>\n",
       "      <td>9</td>\n",
       "      <td>8</td>\n",
       "      <td>2</td>\n",
       "      <td>-1</td>\n",
       "      <td>16</td>\n",
       "      <td>16</td>\n",
       "      <td>True</td>\n",
       "      <td>True</td>\n",
       "      <td>False</td>\n",
       "      <td>12.83</td>\n",
       "      <td>816</td>\n",
       "      <td>0.44</td>\n",
       "      <td>0.9875</td>\n",
       "      <td>0</td>\n",
       "      <td>0.6415</td>\n",
       "      <td>0.01725</td>\n",
       "    </tr>\n",
       "    <tr>\n",
       "      <th>1</th>\n",
       "      <td>linear</td>\n",
       "      <td>1</td>\n",
       "      <td>YCrCb</td>\n",
       "      <td>12</td>\n",
       "      <td>8</td>\n",
       "      <td>2</td>\n",
       "      <td>0</td>\n",
       "      <td>8</td>\n",
       "      <td>16</td>\n",
       "      <td>True</td>\n",
       "      <td>True</td>\n",
       "      <td>False</td>\n",
       "      <td>10.83</td>\n",
       "      <td>240</td>\n",
       "      <td>0.44</td>\n",
       "      <td>0.9875</td>\n",
       "      <td>0</td>\n",
       "      <td>0.5415</td>\n",
       "      <td>0.00400</td>\n",
       "    </tr>\n",
       "  </tbody>\n",
       "</table>\n",
       "</div>"
      ],
      "text/plain": [
       "   kernel  C color_space  orient  pix_per_cell  cell_per_block  hog_channel  \\\n",
       "0  linear  1       YCrCb       9             8               2           -1   \n",
       "1  linear  1       YCrCb      12             8               2            0   \n",
       "\n",
       "   spatial_size  hist_bins  spatial_feat  hist_feat  hog_feat  \\\n",
       "0            16         16          True       True     False   \n",
       "1             8         16          True       True     False   \n",
       "\n",
       "   time_to_extract_features  features_vector_length  training_time  accuracy  \\\n",
       "0                     12.83                     816           0.44    0.9875   \n",
       "1                     10.83                     240           0.44    0.9875   \n",
       "\n",
       "   prediction_time  time_to_extract_features_100  prediction_time_100  \n",
       "0                0                        0.6415              0.01725  \n",
       "1                0                        0.5415              0.00400  "
      ]
     },
     "execution_count": 98,
     "metadata": {},
     "output_type": "execute_result"
    }
   ],
   "source": [
    "# Automated test of different extraction parameters and SVC kernels and parameters\n",
    "\n",
    "# load svc that contains all needed parameters in each line\n",
    "parameter_file = \"extraction_parameters_small.csv\"\n",
    "para_pd = pd.read_table(parameter_file, sep=';')\n",
    "para_pd['spatial_feat'] = para_pd['spatial_feat'].astype('bool')\n",
    "para_pd['hist_feat'] = para_pd['hist_feat'].astype('bool')\n",
    "para_pd['hog_feat'] = para_pd['hog_feat'].astype('bool')\n",
    "\n",
    "\n",
    "# debug output\n",
    "print(para_pd.shape)\n",
    "\n",
    "for index, para_row in para_pd.iterrows():\n",
    "    \n",
    "    # Skip rows that are alredy calculated\n",
    "    #if para_row['accuracy'] != 0:\n",
    "     #   continue\n",
    "    \n",
    "    print('Index: ', index)\n",
    "    kernel = para_row['kernel']\n",
    "    color_space = para_row['color_space']\n",
    "    orient = para_row['orient']\n",
    "    pix_per_cell = para_row['pix_per_cell']\n",
    "    cell_per_block = para_row['cell_per_block']\n",
    "    hog_channel = para_row['hog_channel']\n",
    "    spatial_size = (para_row['spatial_size'], para_row['spatial_size'])\n",
    "    hist_bins = para_row['hist_bins']\n",
    "    spatial_feat = para_row['spatial_feat']\n",
    "    hist_feat = para_row['hist_feat']\n",
    "    hog_feat = para_row['hog_feat']\n",
    "    C = para_row['C']\n",
    "        \n",
    "    \n",
    "    t = time.time()\n",
    "    car_features = extract_features_from_dataset(cars, color_space=color_space,\n",
    "                                    spatial_size=spatial_size, hist_bins=hist_bins,\n",
    "                                    orient=orient, pix_per_cell=pix_per_cell,\n",
    "                                    cell_per_block=cell_per_block,\n",
    "                                    hog_channel=hog_channel, spatial_feat=spatial_feat,\n",
    "                                    hist_feat=hist_feat, hog_feat=hog_feat)\n",
    "    \n",
    "    notcar_features = extract_features_from_dataset(notcars, color_space=color_space,\n",
    "                                       spatial_size=spatial_size, hist_bins=hist_bins,\n",
    "                                       orient=orient, pix_per_cell=pix_per_cell,\n",
    "                                       cell_per_block=cell_per_block,\n",
    "                                       hog_channel=hog_channel, spatial_feat=spatial_feat,\n",
    "                                       hist_feat=hist_feat, hog_feat=hog_feat)\n",
    "\n",
    "    t2 = time.time()\n",
    "    time_extract = round(t2 - t, 2)\n",
    "    para_pd.loc[index, 'time_to_extract_features'] = time_extract\n",
    "    para_pd.loc[index, 'time_to_extract_features_100'] = time_extract*100/(len(car_features)+len(notcar_features))\n",
    "    para_pd.loc[index, 'features_vector_length'] = int(len(car_features[0]))\n",
    "    \n",
    "    svc, accuracy, time_fit, time_prediction = fit_SVM(car_features, notcar_features, kernel=kernel, C=C)\n",
    "    para_pd.loc[index, 'training_time'] = time_fit\n",
    "    para_pd.loc[index, 'accuracy'] = accuracy   \n",
    "    \n",
    "    para_pd.loc[index, 'prediction_time_100'] = time_prediction\n",
    "    \n",
    "\n",
    "# save pandas file back to hard drive\n",
    "para_pd.to_csv(parameter_file, sep=';', index=False)\n",
    "para_pd\n",
    "\n"
   ]
  },
  {
   "cell_type": "markdown",
   "metadata": {},
   "source": [
    "# Vehicle Detection Pipeline"
   ]
  },
  {
   "cell_type": "code",
   "execution_count": null,
   "metadata": {},
   "outputs": [],
   "source": [
    "def draw_boxes(img, bboxes, color=(0, 0, 255), thick=6):\n",
    "    # Make a copy of the image\n",
    "    imcopy = np.copy(img)\n",
    "    # Iterate through the bounding boxes\n",
    "    for bbox in bboxes:\n",
    "        # Draw a rectangle given bbox coordinates\n",
    "        cv2.rectangle(imcopy, bbox[0], bbox[1], color, thick)\n",
    "    # Return the image copy with boxes drawn\n",
    "    return imcopy\n",
    "\n",
    "## Demo\n",
    "img = mpimg.imread('./test_images/test1.jpg')\n",
    "bboxes = [((100, 100), (200, 300)), ((400, 100), (900, 400))]\n",
    "result = draw_boxes(img, bboxes)\n",
    "\n",
    "print_example_images(img, result)"
   ]
  },
  {
   "cell_type": "code",
   "execution_count": null,
   "metadata": {
    "collapsed": true
   },
   "outputs": [],
   "source": [
    "# Define a function you will pass an image and return a list of images to be searched\n",
    "def \n",
    "\n"
   ]
  },
  {
   "cell_type": "code",
   "execution_count": null,
   "metadata": {
    "collapsed": true
   },
   "outputs": [],
   "source": []
  },
  {
   "cell_type": "code",
   "execution_count": null,
   "metadata": {
    "collapsed": true
   },
   "outputs": [],
   "source": []
  },
  {
   "cell_type": "code",
   "execution_count": null,
   "metadata": {
    "collapsed": true
   },
   "outputs": [],
   "source": []
  },
  {
   "cell_type": "code",
   "execution_count": null,
   "metadata": {
    "collapsed": true
   },
   "outputs": [],
   "source": [
    "def pipeline_vehicle_detection(img, debug=False):\n",
    "    result = img.copy()\n",
    "    \n",
    "    bboxes = [((100, 100), (200, 300)), ((400, 100), (900, 400))]\n",
    "    result = draw_boxes(result, bboxes)\n",
    "    \n",
    "    return result"
   ]
  },
  {
   "cell_type": "markdown",
   "metadata": {},
   "source": [
    "# Video"
   ]
  },
  {
   "cell_type": "code",
   "execution_count": null,
   "metadata": {
    "collapsed": true
   },
   "outputs": [],
   "source": [
    "# Import everything needed to edit/save/watch video clips\n",
    "from moviepy.editor import VideoFileClip\n",
    "from IPython.display import HTML"
   ]
  },
  {
   "cell_type": "code",
   "execution_count": null,
   "metadata": {
    "collapsed": true
   },
   "outputs": [],
   "source": [
    "def process_image(image):\n",
    "    # NOTE: The output you return should be a color image (3 channel) for processing video below\n",
    "    # TODO: put your pipeline here,\n",
    "    # you should return the final output\n",
    "\n",
    "    return pipeline_vehicle_detection(image, debug=False)"
   ]
  },
  {
   "cell_type": "code",
   "execution_count": null,
   "metadata": {
    "scrolled": true
   },
   "outputs": [],
   "source": [
    "project_output = 'test_video_output.mp4'\n",
    "## To speed up the testing process you may want to try your pipeline on a shorter subclip of the video\n",
    "## To do so add .subclip(start_second,end_second) to the end of the line below\n",
    "## Where start_second and end_second are integer values representing the start and end of the subclip\n",
    "## You may also uncomment the following line for a subclip of the first 5 seconds\n",
    "##clip1 = VideoFileClip(\"test_videos/solidWhiteRight.mp4\").subclip(0,5)\n",
    "clip1 = VideoFileClip(\"test_video.mp4\")\n",
    "project_clip = clip1.fl_image(process_image) #NOTE: this function expects color images!!\n",
    "%time project_clip.write_videofile(project_output, audio=False)"
   ]
  },
  {
   "cell_type": "markdown",
   "metadata": {},
   "source": [
    "# Project Video"
   ]
  },
  {
   "cell_type": "code",
   "execution_count": null,
   "metadata": {
    "scrolled": true
   },
   "outputs": [],
   "source": [
    "project_output = 'project_video_output.mp4'\n",
    "## To speed up the testing process you may want to try your pipeline on a shorter subclip of the video\n",
    "## To do so add .subclip(start_second,end_second) to the end of the line below\n",
    "## Where start_second and end_second are integer values representing the start and end of the subclip\n",
    "## You may also uncomment the following line for a subclip of the first 5 seconds\n",
    "##clip1 = VideoFileClip(\"test_videos/solidWhiteRight.mp4\").subclip(0,5)\n",
    "clip1 = VideoFileClip(\"project_video.mp4\").subclip(0,5)\n",
    "project_clip = clip1.fl_image(process_image) #NOTE: this function expects color images!!\n",
    "%time project_clip.write_videofile(project_output, audio=False)"
   ]
  },
  {
   "cell_type": "code",
   "execution_count": null,
   "metadata": {
    "collapsed": true
   },
   "outputs": [],
   "source": []
  }
 ],
 "metadata": {
  "kernelspec": {
   "display_name": "Python 3",
   "language": "python",
   "name": "python3"
  },
  "language_info": {
   "codemirror_mode": {
    "name": "ipython",
    "version": 3
   },
   "file_extension": ".py",
   "mimetype": "text/x-python",
   "name": "python",
   "nbconvert_exporter": "python",
   "pygments_lexer": "ipython3",
   "version": "3.5.2"
  },
  "widgets": {
   "state": {},
   "version": "1.1.2"
  }
 },
 "nbformat": 4,
 "nbformat_minor": 2
}
